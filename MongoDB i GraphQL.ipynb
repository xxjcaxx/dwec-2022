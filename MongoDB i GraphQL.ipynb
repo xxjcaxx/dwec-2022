{
 "cells": [
  {
   "cell_type": "code",
   "execution_count": 1,
   "id": "cddd529d",
   "metadata": {},
   "outputs": [
    {
     "ename": "ReferenceError",
     "evalue": "fetch is not defined",
     "output_type": "error",
     "traceback": [
      "ReferenceError: fetch is not defined",
      "    at evalmachine.<anonymous>:3:20",
      "    at evalmachine.<anonymous>:10:3",
      "    at Script.runInThisContext (node:vm:129:12)",
      "    at Object.runInThisContext (node:vm:305:38)",
      "    at run ([eval]:1054:15)",
      "    at onRunRequest ([eval]:888:18)",
      "    at onMessage ([eval]:848:13)",
      "    at process.emit (node:events:390:28)",
      "    at emit (node:internal/child_process:917:12)",
      "    at processTicksAndRejections (node:internal/process/task_queues:84:21)"
     ]
    }
   ],
   "source": [
    "(async ()=>{\n",
    "    const https = require('https');\n",
    "    \n",
    "    let response = await fetch('https://realm.mongodb.com/api/client/v2.0/app/futbol-rqxxa/graphql',{\n",
    "        \n",
    "    });\n",
    "    let equips = await response.json();\n",
    "    console.log(equips);\n",
    "    \n",
    "    \n",
    "})();"
   ]
  },
  {
   "cell_type": "code",
   "execution_count": null,
   "id": "1b1e03e6",
   "metadata": {},
   "outputs": [],
   "source": []
  }
 ],
 "metadata": {
  "kernelspec": {
   "display_name": "JavaScript (Node.js)",
   "language": "javascript",
   "name": "javascript"
  },
  "language_info": {
   "file_extension": ".js",
   "mimetype": "application/javascript",
   "name": "javascript",
   "version": "16.13.0"
  }
 },
 "nbformat": 4,
 "nbformat_minor": 5
}
